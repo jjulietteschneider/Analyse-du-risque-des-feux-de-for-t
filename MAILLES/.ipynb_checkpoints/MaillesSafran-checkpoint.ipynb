{
 "cells": [
  {
   "cell_type": "markdown",
   "id": "c0c38e81-70eb-4e49-ba26-9b700f08e033",
   "metadata": {},
   "source": [
    "# Récupération des données des mailles Safran pour retrpouver ce quadrillage et le faire correspondre à nos données"
   ]
  },
  {
   "cell_type": "markdown",
   "id": "89ccb3a8-e653-4c5f-a513-32736a373f2f",
   "metadata": {},
   "source": [
    "L'idée serait de pouvoir représenter le département des landes (c'est celui que l'on étudie pour le moment), sur lequel on aurait le découpage SAFRAN (base mailles_landes), et sur lequel on pourrait dans un premier temps superposer les IFM prédit que l'on a (pour voir à quoi ils correspondent et où ils sont positionnés, intérieur des mailles? coins?...). On pourrait alors associer chaque IFM a une maille (en plus de la date). En parralèlle,on pourrait associer chaque ville (donnée de localisation que l'on a dans la BDIFF) soit à des coordonnées lat,long (mais qui devraient alors correspondre par exemple au centre de la ville ponctuel), soit à la maille dans laquelle la ville se situe, pour pouvoir faire une regression entre feu et IFM plus précise, et par maille. "
   ]
  },
  {
   "cell_type": "code",
   "execution_count": 55,
   "id": "39e5e094-719c-49d2-908f-0867420a1ff5",
   "metadata": {},
   "outputs": [],
   "source": [
    "import csv\n",
    "import pandas as pd\n",
    "import geopandas as gpd\n",
    "import matplotlib.pyplot as plt\n",
    "from shapely.geometry import Point"
   ]
  },
  {
   "cell_type": "code",
   "execution_count": 56,
   "id": "5401760f-1ddc-4287-a324-0eb8f47693ce",
   "metadata": {},
   "outputs": [],
   "source": [
    "#### On ne s'intéresse ici qu'aux Landes\n",
    "df = pd.read_csv('mailles_safran_drias-20200206.csv')\n",
    "df_landes = df[df['departement'] == '40 - Landes']\n",
    "df_landes.to_csv('mailles_landes.csv')"
   ]
  },
  {
   "cell_type": "code",
   "execution_count": 57,
   "id": "d7cd42a8-cd30-4bc6-aeb2-5634dd899113",
   "metadata": {},
   "outputs": [],
   "source": [
    "geo_df.crs = 'EPSG:4326'"
   ]
  },
  {
   "cell_type": "code",
   "execution_count": 58,
   "id": "92b0370a-f5a0-4b9a-a54c-1c8c6149fc5e",
   "metadata": {},
   "outputs": [
    {
     "data": {
      "image/png": "[encoded data removed]",
      "text/plain": [
       "<Figure size 1000x1000 with 1 Axes>"
      ]
     },
     "metadata": {},
     "output_type": "display_data"
    }
   ],
   "source": [
    "# Plottons la carte du département pour localiser les mailles\n",
    "\n",
    "# Load shapefile for the French department\n",
    "department_shp = \"40-.shp\"\n",
    "department = gpd.read_file(department_shp)\n",
    "\n",
    "# Load your geolocation data (assuming it's a DataFrame with columns 'Latitude' and 'Longitude')\n",
    "# Replace 'your_data.csv' with the path to your CSV file\n",
    "geo_data = pd.read_csv('mailles_landes.csv')\n",
    "\n",
    "# Convert your geolocation data to a GeoDataFrame\n",
    "geometry = gpd.points_from_xy(geo_data['longitude'], geo_data['latitude'])\n",
    "geo_df = gpd.GeoDataFrame(geo_data, geometry=geometry)\n",
    "\n",
    "fig, ax = plt.subplots(figsize=(10, 10))\n",
    "department.plot(ax=ax, color='lightgrey', edgecolor='black')\n",
    "geo_df.plot(ax=ax, color='red', markersize=5)\n",
    "\n",
    "# Show the plot\n",
    "plt.show()"
   ]
  },
  {
   "cell_type": "markdown",
   "id": "2bca619b-895f-4efa-a29c-6ac4493b9ed0",
   "metadata": {},
   "source": [
    "THE GEO DATA DOESN'T WORK???"
   ]
  },
  {
   "cell_type": "code",
   "execution_count": 59,
   "id": "e538a5b8-54b7-4044-99f9-c42d503e669b",
   "metadata": {},
   "outputs": [
    {
     "name": "stderr",
     "output_type": "stream",
     "text": [
      "/tmp/ipykernel_1982/1153664970.py:11: FutureWarning: The geopandas.dataset module is deprecated and will be removed in GeoPandas 1.0. You can get the original 'naturalearth_lowres' data from https://www.naturalearthdata.com/downloads/110m-cultural-vectors/.\n",
      "  world = gpd.read_file(gpd.datasets.get_path('naturalearth_lowres'))\n"
     ]
    },
    {
     "data": {
      "image/png": "[encoded data removed]",
      "text/plain": [
       "<Figure size 1000x600 with 1 Axes>"
      ]
     },
     "metadata": {},
     "output_type": "display_data"
    }
   ],
   "source": [
    "# Create a GeoDataFrame from longitude and latitude data\n",
    "geo_data = pd.read_csv('mailles_landes.csv')\n",
    "\n",
    "geometry = [Point(lon, lat) for lon, lat in zip(geo_data['longitude'], geo_data['latitude'])]\n",
    "geo_df = gpd.GeoDataFrame(geo_data, geometry=geometry, crs=\"EPSG:4326\")\n",
    "\n",
    "# Calculate the bounding box of the GeoDataFrame\n",
    "minx, miny, maxx, maxy = -1.39, 43.05, 0, 44.46\n",
    "\n",
    "# Plot the world map\n",
    "world = gpd.read_file(gpd.datasets.get_path('naturalearth_lowres'))\n",
    "ax = world.cx[minx:maxx, miny:maxy].plot(figsize=(10, 6), color='white', edgecolor='black')\n",
    "\n",
    "# Set x and y axis limits based on the bounding box\n",
    "ax.set_xlim(minx, maxx)\n",
    "ax.set_ylim(miny, maxy)\n",
    "ax.set_aspect('equal', adjustable='box')\n",
    "\n",
    "# Add gridlines for reference\n",
    "ax.grid(True)\n",
    "\n",
    "# Show plot\n",
    "plt.tight_layout()\n",
    "plt.show()\n",
    "# Plot the points within the bounding box\n",
    "# geo_df.plot(ax=ax, color='red', markersize=50, marker='o', label='Points')"
   ]
  },
  {
   "cell_type": "code",
   "execution_count": 51,
   "id": "f964282f-b10a-4545-97c8-9ad15e3204e5",
   "metadata": {},
   "outputs": [
    {
     "name": "stdout",
     "output_type": "stream",
     "text": [
      "latitude     43.507340\n",
      "longitude    -1.387791\n",
      "dtype: float64 latitude     44.454322\n",
      "longitude    -0.004344\n",
      "dtype: float64\n"
     ]
    }
   ],
   "source": [
    "min_values = geo_data[['latitude', 'longitude']].min()\n",
    "max_values = geo_data[['latitude', 'longitude']].max()\n",
    "print(min_values, max_values)"
   ]
  },
  {
   "cell_type": "code",
   "execution_count": null,
   "id": "5fd91b21-1bc6-4e3c-9ae5-36a381f47b11",
   "metadata": {},
   "outputs": [],
   "source": []
  }
 ],
 "metadata": {
  "kernelspec": {
   "display_name": "Python 3 (ipykernel)",
   "language": "python",
   "name": "python3"
  },
  "language_info": {
   "codemirror_mode": {
    "name": "ipython",
    "version": 3
   },
   "file_extension": ".py",
   "mimetype": "text/x-python",
   "name": "python",
   "nbconvert_exporter": "python",
   "pygments_lexer": "ipython3",
   "version": "3.11.6"
  }
 },
 "nbformat": 4,
 "nbformat_minor": 5
}
