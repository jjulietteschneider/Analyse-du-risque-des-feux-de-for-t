{
 "cells": [
  {
   "cell_type": "code",
   "execution_count": 1,
   "id": "7a384960-ee4d-4594-ad92-01e39f583e64",
   "metadata": {},
   "outputs": [],
   "source": [
    "import pandas as pd\n",
    "import statsmodels.api as sm\n",
    "import statsmodels.formula.api as smf"
   ]
  },
  {
   "cell_type": "markdown",
   "id": "f40b69cd-10eb-47b0-8284-95468638707d",
   "metadata": {},
   "source": [
    "## 1- Modèle GLM"
   ]
  },
  {
   "cell_type": "code",
   "execution_count": 18,
   "id": "7a604f8f-4aea-4cd7-971e-bace00a42c7d",
   "metadata": {},
   "outputs": [],
   "source": [
    "X = pd.read_csv('X.csv')\n",
    "Y = pd.read_csv('Y.csv')\n",
    "\n",
    "X['maille_safran'] = X['maille_safran'].astype(str)\n",
    "Y['Mailles'] = Y['Mailles'].astype(str)\n",
    "Y.rename(columns={'Mailles': 'maille_safran', 'Année': 'Année'}, inplace=True)\n",
    "\n",
    "X['maille_safran'] = X['maille_safran'].astype(int)\n",
    "Y['maille_safran'] = Y['maille_safran'].astype(float).astype(int)\n",
    "\n",
    "data = pd.merge(X, Y, on=['maille_safran', 'Année'], how='inner')\n",
    "data['IFM_moy'] = data.iloc[:, 2:32].mean(axis=1)  #On regresse sur ça mais je capte pas bien ce que c'est\n"
   ]
  },
  {
   "cell_type": "code",
   "execution_count": 19,
   "id": "b4db61fd-8df7-420f-a9f0-e638e2510968",
   "metadata": {},
   "outputs": [
    {
     "name": "stdout",
     "output_type": "stream",
     "text": [
      "                 Generalized Linear Model Regression Results                  \n",
      "==============================================================================\n",
      "Dep. Variable:        Q(\"Feu en été\")   No. Observations:                 2448\n",
      "Model:                            GLM   Df Residuals:                     2446\n",
      "Model Family:                Binomial   Df Model:                            1\n",
      "Link Function:                  Logit   Scale:                          1.0000\n",
      "Method:                          IRLS   Log-Likelihood:                   -inf\n",
      "Date:                Thu, 18 Apr 2024   Deviance:                       4991.0\n",
      "Time:                        16:28:05   Pearson chi2:                 2.68e+03\n",
      "No. Iterations:                     5   Pseudo R-squ. (CS):                nan\n",
      "Covariance Type:            nonrobust                                         \n",
      "==============================================================================\n",
      "                 coef    std err          z      P>|z|      [0.025      0.975]\n",
      "------------------------------------------------------------------------------\n",
      "Intercept      0.5263      0.087      6.030      0.000       0.355       0.697\n",
      "IFM_moy       -0.0166      0.010     -1.705      0.088      -0.036       0.002\n",
      "==============================================================================\n"
     ]
    },
    {
     "name": "stderr",
     "output_type": "stream",
     "text": [
      "/opt/mamba/lib/python3.11/site-packages/statsmodels/genmod/generalized_linear_model.py:1891: RuntimeWarning: invalid value encountered in scalar subtract\n",
      "  prsq = 1 - np.exp((self.llnull - self.llf) * (2 / self.nobs))\n"
     ]
    }
   ],
   "source": [
    "# Modèle GLM avec lien logit\n",
    "model = smf.glm(formula='Q(\"Feu en été\") ~ IFM_moy', data=data, family=sm.families.Binomial())\n",
    "result = model.fit()\n",
    "\n",
    "print(result.summary())\n"
   ]
  }
 ],
 "metadata": {
  "kernelspec": {
   "display_name": "Python 3 (ipykernel)",
   "language": "python",
   "name": "python3"
  },
  "language_info": {
   "codemirror_mode": {
    "name": "ipython",
    "version": 3
   },
   "file_extension": ".py",
   "mimetype": "text/x-python",
   "name": "python",
   "nbconvert_exporter": "python",
   "pygments_lexer": "ipython3",
   "version": "3.11.6"
  }
 },
 "nbformat": 4,
 "nbformat_minor": 5
}
