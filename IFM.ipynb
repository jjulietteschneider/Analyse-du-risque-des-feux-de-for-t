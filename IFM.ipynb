{
 "cells": [
  {
   "cell_type": "code",
   "execution_count": 2,
   "id": "e6af10ca-5481-4d81-b4b0-17fd498d37ea",
   "metadata": {},
   "outputs": [
    {
     "name": "stdout",
     "output_type": "stream",
     "text": [
      "Collecting PyPDF2\n",
      "  Downloading pypdf2-3.0.1-py3-none-any.whl.metadata (6.8 kB)\n",
      "Downloading pypdf2-3.0.1-py3-none-any.whl (232 kB)\n",
      "\u001b[2K   \u001b[90m━━━━━━━━━━━━━━━━━━━━━━━━━━━━━━━━━━━━━━━━\u001b[0m \u001b[32m232.6/232.6 kB\u001b[0m \u001b[31m7.7 MB/s\u001b[0m eta \u001b[36m0:00:00\u001b[0m\n",
      "\u001b[?25hInstalling collected packages: PyPDF2\n",
      "Successfully installed PyPDF2-3.0.1\n"
     ]
    }
   ],
   "source": [
    "!pip install PyPDF2\n",
    "import PyPDF2"
   ]
  },
  {
   "cell_type": "code",
   "execution_count": 3,
   "id": "15c44aef-a729-4c10-802f-366676d26285",
   "metadata": {},
   "outputs": [],
   "source": [
    "import csv\n",
    "import re\n",
    "import pandas as pd\n",
    "import statsmodels.api as sm"
   ]
  },
  {
   "cell_type": "markdown",
   "id": "ae1ec60e-a580-48c2-9777-6f44bc0abd4c",
   "metadata": {},
   "source": [
    "## IFM RCP 4.5 - Landes\n",
    "\n",
    "La base de données étant en format pdf, le code suivant permet de les retranscrire dans un fichier csv\n",
    "\n",
    "Tout marche bien mais on a pas dans ces bases les IFM de 2006 à 2022, qui nous sont utiles pour pouvoir construire le modèle probabiliste."
   ]
  },
  {
   "cell_type": "code",
   "execution_count": 4,
   "id": "29683d87-62e8-4456-8b27-46a73c8d8983",
   "metadata": {},
   "outputs": [],
   "source": [
    "# Ouvrir le fichier PDF\n",
    "with open('IFM RCP 4.5, Landes.pdf', 'rb') as f:\n",
    "    # Créer un objet PdfReader\n",
    "    pdf_reader = PyPDF2.PdfReader(f)\n",
    "    \n",
    "    # Lire chaque page du PDF et extraire le texte\n",
    "    text = ''\n",
    "    for page_num in range(len(pdf_reader.pages)):\n",
    "        page = pdf_reader.pages[page_num]\n",
    "        text += page.extract_text()\n",
    "\n",
    "# Afficher le texte extrait\n",
    "#print(text)\n"
   ]
  },
  {
   "cell_type": "code",
   "execution_count": 5,
   "id": "6526ffa6-3010-44ad-bb0c-4ec217f973c7",
   "metadata": {},
   "outputs": [],
   "source": [
    "# Définir une expression régulière pour extraire les données de chaque ligne\n",
    "pattern = re.compile(r'(\\d+);([\\d.-]+);([\\d.-]+);([^;]+);([^;]+);([^;]+);([^;]+);([^;]+);([^;]+);([^;]+);([^;]+);([^;]+);([^;]+);([^;]+);([^;]+);')\n",
    "\n",
    "# Ouvrir le fichier PDF extrait\n",
    "with open('text.txt', 'w') as file:\n",
    "    file.write(text)\n",
    "\n",
    "# Ouvrir le fichier texte extrait\n",
    "with open('text.txt', 'r') as file:\n",
    "    # Créer un fichier CSV pour écrire les données\n",
    "    with open('ifm45_landes.csv', 'w', newline='') as csvfile:\n",
    "        writer = csv.DictWriter(csvfile, fieldnames=[\n",
    "            'Point', 'Latitude', 'Longitude', 'Contexte', 'Période', 'Saison',\n",
    "            'NORNSV23', 'NORNSV24', 'NORNSV25', 'NORIFM20', 'NORIFM40', 'NORIFM60',\n",
    "            'NORIS400', 'NORIS700', 'NORIS1000'\n",
    "        ])\n",
    "        \n",
    "        writer.writeheader()\n",
    "        \n",
    "        # Lire chaque ligne du fichier extrait\n",
    "        for line in file:\n",
    "            # Vérifier si la ligne correspond au pattern\n",
    "            match = pattern.match(line)\n",
    "            if match:\n",
    "                # Extraire les données de la ligne\n",
    "                data = {\n",
    "                    'Point': match.group(1),\n",
    "                    'Latitude': match.group(2),\n",
    "                    'Longitude': match.group(3),\n",
    "                    'Contexte': match.group(4),\n",
    "                    'Période': match.group(5),\n",
    "                    'Saison': match.group(6),\n",
    "                    'NORNSV23': match.group(7),\n",
    "                    'NORNSV24': match.group(8),\n",
    "                    'NORNSV25': match.group(9),\n",
    "                    'NORIFM20': match.group(10),\n",
    "                    'NORIFM40': match.group(11),\n",
    "                    'NORIFM60': match.group(12),\n",
    "                    'NORIS400': match.group(13),\n",
    "                    'NORIS700': match.group(14),\n",
    "                    'NORIS1000': match.group(15)\n",
    "                }\n",
    "                \n",
    "                # Écrire les données dans le fichier CSV\n",
    "                writer.writerow(data)\n"
   ]
  },
  {
   "cell_type": "code",
   "execution_count": 6,
   "id": "a4d5ebca-2605-4528-84b0-2d1fc504bfeb",
   "metadata": {},
   "outputs": [
    {
     "name": "stdout",
     "output_type": "stream",
     "text": [
      "   Point  Latitude  Longitude Contexte Période  Saison  NORNSV23  NORNSV24  \\\n",
      "0   4034   43.5074    -1.3690   RCP4.5      H1       2         0         0   \n",
      "1   4034   43.5074    -1.3690   RCP4.5      H1       3         9         1   \n",
      "2   4034   43.5074    -1.3690   RCP4.5      H1       4         5         0   \n",
      "3   4035   43.5107    -1.2704   RCP4.5      H1       2         0         0   \n",
      "4   4035   43.5107    -1.2704   RCP4.5      H1       3        16         2   \n",
      "\n",
      "  NORNSV25  NORIFM20  NORIFM40  NORIFM60  NORIS400  NORIS700  NORIS1000  \n",
      "0     -999         1         0         0         0         0       -999  \n",
      "1        0         7         0         0        23         1          0  \n",
      "2     -999         2         0         0        18         1       -999  \n",
      "3     -999         1         0         0         0         0       -999  \n",
      "4        0         8         0         0        22         1          0  \n"
     ]
    }
   ],
   "source": [
    "# Lire le fichier CSV avec pandas\n",
    "df_ifm45 = pd.read_csv('ifm45_landes.csv')\n",
    "\n",
    "# Afficher les premières lignes du DataFrame pour vérifier les données\n",
    "print(df_ifm45.head())\n"
   ]
  },
  {
   "cell_type": "markdown",
   "id": "cd8d3051-16a1-4a68-86ad-46b6d7ac9461",
   "metadata": {},
   "source": [
    "On va donc faire de même pour le fichier ifm donnees 2022 rcp4.5.txt qui à priori contient les IFM recherchés"
   ]
  },
  {
   "cell_type": "code",
   "execution_count": 7,
   "id": "a7e9eea1-25fc-436a-b9bb-600bd76d4bac",
   "metadata": {},
   "outputs": [
    {
     "name": "stdout",
     "output_type": "stream",
     "text": [
      "        Date  Latitude  Longitude  ifm  ifm-max\n",
      "0 2006-01-01   43.5074   -1.36829  0.7      0.8\n",
      "1 2006-01-02   43.5074   -1.36829  0.6      0.7\n",
      "2 2006-01-03   43.5074   -1.36829  0.6      0.7\n",
      "3 2006-01-04   43.5074   -1.36829  0.9      0.9\n",
      "4 2006-01-05   43.5074   -1.36829  0.9      1.0\n"
     ]
    }
   ],
   "source": [
    "### UPLOAD LE FICHIER AVANT ###\n",
    "\n",
    "# Initialiser une liste vide pour stocker les données\n",
    "data = []\n",
    "\n",
    "# Ouvrir le fichier texte pour la lecture\n",
    "with open('ifm donnees 2022 rcp4.5.txt', 'r') as file:\n",
    "    for line in file:\n",
    "        # Ignorer les lignes de commentaire\n",
    "        if not line.startswith('#'):\n",
    "            # Diviser la ligne pour obtenir les différentes valeurs\n",
    "            columns = line.strip().split(';')\n",
    "            # Ajouter les valeurs à la liste de données\n",
    "            data.append(columns)\n",
    "\n",
    "# Créer un DataFrame à partir de la liste de données\n",
    "df_ifm45 = pd.DataFrame(data, columns=['Date', 'Latitude', 'Longitude', 'ifm', 'ifm-max'])\n",
    "\n",
    "# Convertir les colonnes de données en types appropriés\n",
    "df_ifm45['Date'] = pd.to_datetime(df_ifm45['Date'], format='%Y%m%d')\n",
    "df_ifm45['Latitude'] = pd.to_numeric(df_ifm45['Latitude'])\n",
    "df_ifm45['Longitude'] = pd.to_numeric(df_ifm45['Longitude'])\n",
    "df_ifm45['ifm'] = pd.to_numeric(df_ifm45['ifm'])\n",
    "df_ifm45['ifm-max'] = pd.to_numeric(df_ifm45['ifm-max'])\n",
    "\n",
    "# Afficher les premières lignes du DataFrame pour vérification\n",
    "print(df_ifm45.head())\n"
   ]
  },
  {
   "cell_type": "markdown",
   "id": "ff3f41fe-64cc-4167-a966-5a798894a9ef",
   "metadata": {},
   "source": [
    "## Lien entre les IFM et la survenance des feux de forêt"
   ]
  },
  {
   "cell_type": "code",
   "execution_count": 8,
   "id": "affd03a0-a07e-4bb2-964f-561cb4193e36",
   "metadata": {},
   "outputs": [
    {
     "name": "stdout",
     "output_type": "stream",
     "text": [
      "   Année  Numéro Département Code INSEE       Nom de la commune  \\\n",
      "0   2006       2          01      01148                  Dortan   \n",
      "1   2006       3          01      01321                Revonnas   \n",
      "2   2006       4          01      01032               Béligneux   \n",
      "3   2006       5          01      01109               Collonges   \n",
      "4   2006       6          01      01384  Saint-Rambert-en-Bugey   \n",
      "\n",
      "  Date de première alerte Origine de l'alerte  \\\n",
      "0        27/02/2006 13:56         Indéterminé   \n",
      "1        15/03/2006 16:02         Indéterminé   \n",
      "2        16/03/2006 17:03         Indéterminé   \n",
      "3        27/03/2006 14:30         Indéterminé   \n",
      "4        24/04/2006 16:43         Indéterminé   \n",
      "\n",
      "   Moyens de première intervention  Surface parcourue (m2)  \\\n",
      "0                              NaN                   10000   \n",
      "1                              NaN                   10000   \n",
      "2                              NaN                   10000   \n",
      "3                              NaN                   10000   \n",
      "4                              NaN                   20000   \n",
      "\n",
      "   Surface forêt (m2)  ...  Décès ou bâtiments touchés  Nombre de décès  \\\n",
      "0                 0.0  ...                         Non              NaN   \n",
      "1                 0.0  ...                         Non              NaN   \n",
      "2                 0.0  ...                         Non              NaN   \n",
      "3                 0.0  ...                         Non              NaN   \n",
      "4                 0.0  ...                         Non              NaN   \n",
      "\n",
      "   Nombre de bâtiments totalement détruits  \\\n",
      "0                                      NaN   \n",
      "1                                      NaN   \n",
      "2                                      NaN   \n",
      "3                                      NaN   \n",
      "4                                      NaN   \n",
      "\n",
      "   Nombre de bâtiments partiellement détruits  Hygrométrie (%)  \\\n",
      "0                                         NaN              NaN   \n",
      "1                                         NaN              NaN   \n",
      "2                                         NaN              NaN   \n",
      "3                                         NaN              NaN   \n",
      "4                                         NaN              NaN   \n",
      "\n",
      "   Vitesse moyenne du vent (Km/h)  Direction du vent  Température (°C)  \\\n",
      "0                             NaN                NaN               NaN   \n",
      "1                             NaN                NaN               NaN   \n",
      "2                             NaN                NaN               NaN   \n",
      "3                             NaN                NaN               NaN   \n",
      "4                             NaN                NaN               NaN   \n",
      "\n",
      "              Précision de la donnée  Présence d'un contour valide  \n",
      "0  Données partielles ou non valides                          Non,  \n",
      "1  Données partielles ou non valides                          Non,  \n",
      "2  Données partielles ou non valides                          Non,  \n",
      "3  Données partielles ou non valides                          Non,  \n",
      "4  Données partielles ou non valides                          Non,  \n",
      "\n",
      "[5 rows x 37 columns]\n",
      "     Année  Numéro Département Code INSEE  Nom de la commune  \\\n",
      "652   2006    1876          40      40006          Arengosse   \n",
      "653   2006    1877          40      40151             Lesgor   \n",
      "654   2006    1878          40      40108             Gastes   \n",
      "655   2006    1879          40      40210  Onesse-et-Laharie   \n",
      "656   2006    1881          40      40167              Luxey   \n",
      "\n",
      "    Date de première alerte Origine de l'alerte  \\\n",
      "652        26/07/2006 19:40         Indéterminé   \n",
      "653        17/07/2006 15:29         Indéterminé   \n",
      "654        25/04/2006 18:40         Indéterminé   \n",
      "655        17/07/2006 18:20         Indéterminé   \n",
      "656        27/07/2006 10:49         Indéterminé   \n",
      "\n",
      "     Moyens de première intervention  Surface parcourue (m2)  \\\n",
      "652                              NaN                    5000   \n",
      "653                              NaN                   66000   \n",
      "654                              NaN                     400   \n",
      "655                              NaN                   59000   \n",
      "656                              NaN                      10   \n",
      "\n",
      "     Surface forêt (m2)  ...  Décès ou bâtiments touchés  Nombre de décès  \\\n",
      "652              5000.0  ...                         Non              NaN   \n",
      "653             60000.0  ...                         Non              NaN   \n",
      "654               400.0  ...                         Non              NaN   \n",
      "655             59000.0  ...                         Non              NaN   \n",
      "656                10.0  ...                         Non              NaN   \n",
      "\n",
      "     Nombre de bâtiments totalement détruits  \\\n",
      "652                                      NaN   \n",
      "653                                      NaN   \n",
      "654                                      NaN   \n",
      "655                                      NaN   \n",
      "656                                      NaN   \n",
      "\n",
      "     Nombre de bâtiments partiellement détruits  Hygrométrie (%)  \\\n",
      "652                                         NaN              NaN   \n",
      "653                                         NaN              NaN   \n",
      "654                                         NaN              NaN   \n",
      "655                                         NaN              NaN   \n",
      "656                                         NaN              NaN   \n",
      "\n",
      "     Vitesse moyenne du vent (Km/h)  Direction du vent  Température (°C)  \\\n",
      "652                             NaN                NaN               NaN   \n",
      "653                             NaN                NaN               NaN   \n",
      "654                             NaN                NaN               NaN   \n",
      "655                             NaN                NaN               NaN   \n",
      "656                             NaN                NaN               NaN   \n",
      "\n",
      "    Précision de la donnée  Présence d'un contour valide  \n",
      "652                    NaN                          Non,  \n",
      "653                    NaN                          Non,  \n",
      "654                    NaN                          Non,  \n",
      "655                    NaN                          Non,  \n",
      "656                    NaN                          Non,  \n",
      "\n",
      "[5 rows x 37 columns]\n"
     ]
    }
   ],
   "source": [
    "data = 'combine.csv'\n",
    "\n",
    "df = pd.read_csv('combine.csv', sep=';')\n",
    "print(df.head())\n",
    "\n",
    "# Filtrer les lignes où la valeur de la colonne \"Département\" est égale à 40\n",
    "bdiff_landes = df[df['Département'] == '40']\n",
    "\n",
    "# Afficher les premières lignes du DataFrame filtré\n",
    "print(bdiff_landes.head())"
   ]
  },
  {
   "cell_type": "markdown",
   "id": "c157cd52-3d32-4e49-ada3-2ee57784427c",
   "metadata": {},
   "source": [
    "**Régression linéaire du nombre de feux sur les IFM**\n",
    "\n",
    "*Préparation des données*"
   ]
  },
  {
   "cell_type": "code",
   "execution_count": 9,
   "id": "133f610b-4f7d-4698-b340-a2298f316bbb",
   "metadata": {},
   "outputs": [],
   "source": [
    "# Créer une copie de bdiff_landes \n",
    "bdiff_landes = bdiff_landes.copy()\n",
    "\n",
    "# Convertir la colonne 'Date de première alerte' en datetime\n",
    "bdiff_landes['Date de première alerte'] = pd.to_datetime(bdiff_landes['Date de première alerte'], format='%d/%m/%Y %H:%M')\n",
    "\n",
    "# Extraire la date sans l'heure pour compter le nombre de feux par jour\n",
    "bdiff_landes['Date'] = bdiff_landes['Date de première alerte'].dt.date\n",
    "\n",
    "# Compter le nombre de feux par jour\n",
    "feux_par_jour = bdiff_landes.groupby('Date').size().reset_index(name='Nombre de feux')"
   ]
  },
  {
   "cell_type": "markdown",
   "id": "681b6624-d4e3-4f8e-925f-238ea7a17b33",
   "metadata": {},
   "source": [
    "*Mettre les données en relation*"
   ]
  },
  {
   "cell_type": "code",
   "execution_count": 10,
   "id": "83545244-0c09-4228-9888-a6e5a55ea527",
   "metadata": {},
   "outputs": [],
   "source": [
    "# Convertir la colonne 'Date' dans df_ifm45 en format date sans heure pour la fusion\n",
    "df_ifm45['Date'] = pd.to_datetime(df_ifm45['Date']).dt.date\n",
    "\n",
    "# Fusionner les données sur la colonne 'Date'\n",
    "donnees_analyse = pd.merge(df_ifm45, feux_par_jour, on='Date', how='inner')\n"
   ]
  },
  {
   "cell_type": "markdown",
   "id": "2bb300b1-73a7-4eea-bfc8-024f83ed74ec",
   "metadata": {},
   "source": [
    "*Régression*"
   ]
  },
  {
   "cell_type": "code",
   "execution_count": 11,
   "id": "679bbf9e-e1f6-4096-96b7-2c794d0e6d1e",
   "metadata": {},
   "outputs": [
    {
     "name": "stdout",
     "output_type": "stream",
     "text": [
      "                            OLS Regression Results                            \n",
      "==============================================================================\n",
      "Dep. Variable:         Nombre de feux   R-squared:                       0.025\n",
      "Model:                            OLS   Adj. R-squared:                  0.025\n",
      "Method:                 Least Squares   F-statistic:                     3936.\n",
      "Date:                Thu, 28 Mar 2024   Prob (F-statistic):               0.00\n",
      "Time:                        16:37:15   Log-Likelihood:            -2.6502e+05\n",
      "No. Observations:              150800   AIC:                         5.301e+05\n",
      "Df Residuals:                  150798   BIC:                         5.301e+05\n",
      "Df Model:                           1                                         \n",
      "Covariance Type:            nonrobust                                         \n",
      "==============================================================================\n",
      "                 coef    std err          t      P>|t|      [0.025      0.975]\n",
      "------------------------------------------------------------------------------\n",
      "const          1.4299      0.005    306.291      0.000       1.421       1.439\n",
      "ifm            0.0235      0.000     62.741      0.000       0.023       0.024\n",
      "==============================================================================\n",
      "Omnibus:                   198290.545   Durbin-Watson:                   1.589\n",
      "Prob(Omnibus):                  0.000   Jarque-Bera (JB):         67740051.748\n",
      "Skew:                           7.269   Prob(JB):                         0.00\n",
      "Kurtosis:                     105.808   Cond. No.                         16.2\n",
      "==============================================================================\n",
      "\n",
      "Notes:\n",
      "[1] Standard Errors assume that the covariance matrix of the errors is correctly specified.\n"
     ]
    }
   ],
   "source": [
    "# Préparer les variables pour la régression\n",
    "X = donnees_analyse[['ifm']]  # Variable explicative\n",
    "y = donnees_analyse['Nombre de feux']  # Variable à expliquer\n",
    "\n",
    "# Ajouter une constante à la variable explicative pour le terme d'interception\n",
    "X = sm.add_constant(X)\n",
    "\n",
    "# Effectuer la régression linéaire\n",
    "modele = sm.OLS(y, X).fit()\n",
    "\n",
    "# Afficher le résumé du modèle\n",
    "print(modele.summary())\n"
   ]
  },
  {
   "cell_type": "markdown",
   "id": "f6b592e5-757e-4989-b927-9fed77adbfb5",
   "metadata": {},
   "source": [
    "**On rajoute la surface totale brûlée voir si c'est expliqué par l'IFM**"
   ]
  },
  {
   "cell_type": "code",
   "execution_count": 12,
   "id": "5a8ed95e-bf21-4fbc-ab85-56d5f3401db5",
   "metadata": {},
   "outputs": [
    {
     "name": "stdout",
     "output_type": "stream",
     "text": [
      "                              OLS Regression Results                             \n",
      "=================================================================================\n",
      "Dep. Variable:     Surface brûlée totale   R-squared:                       0.001\n",
      "Model:                               OLS   Adj. R-squared:                  0.001\n",
      "Method:                    Least Squares   F-statistic:                     47.29\n",
      "Date:                   Thu, 28 Mar 2024   Prob (F-statistic):           2.94e-21\n",
      "Time:                           16:38:47   Log-Likelihood:            -2.0976e+06\n",
      "No. Observations:                 150800   AIC:                         4.195e+06\n",
      "Df Residuals:                     150797   BIC:                         4.195e+06\n",
      "Df Model:                              2                                         \n",
      "Covariance Type:               nonrobust                                         \n",
      "==================================================================================\n",
      "                     coef    std err          t      P>|t|      [0.025      0.975]\n",
      "----------------------------------------------------------------------------------\n",
      "const           3.259e+04   1127.276     28.914      0.000    3.04e+04    3.48e+04\n",
      "ifm              390.6808     71.857      5.437      0.000     249.842     531.520\n",
      "Nombre de feux  3463.0524    488.235      7.093      0.000    2506.122    4419.983\n",
      "==============================================================================\n",
      "Omnibus:                   260278.481   Durbin-Watson:                   1.998\n",
      "Prob(Omnibus):                  0.000   Jarque-Bera (JB):        203111329.956\n",
      "Skew:                          12.369   Prob(JB):                         0.00\n",
      "Kurtosis:                     181.083   Cond. No.                         21.5\n",
      "==============================================================================\n",
      "\n",
      "Notes:\n",
      "[1] Standard Errors assume that the covariance matrix of the errors is correctly specified.\n"
     ]
    }
   ],
   "source": [
    "# Calculer le nombre de feux et la surface brûlée totale par jour\n",
    "feux_par_jour = bdiff_landes.groupby('Date').agg({'Nom de la commune': 'size', 'Surface parcourue (m2)': 'sum'}).reset_index().rename(columns={'Nom de la commune': 'Nombre de feux', 'Surface parcourue (m2)': 'Surface brûlée totale'})\n",
    "\n",
    "donnees_analyse = pd.merge(df_ifm45, feux_par_jour, on='Date', how='inner')\n",
    "\n",
    "# Préparer les variables pour la régression\n",
    "X = donnees_analyse[['ifm', 'Nombre de feux']]  # Variables explicatives\n",
    "y = donnees_analyse['Surface brûlée totale']  # Variable à expliquer\n",
    "\n",
    "# Ajouter une constante à la variable explicative pour le terme d'interception\n",
    "X = sm.add_constant(X)\n",
    "\n",
    "# Effectuer la régression linéaire\n",
    "modele = sm.OLS(y, X).fit()\n",
    "\n",
    "# Afficher le résumé du modèle\n",
    "print(modele.summary())\n"
   ]
  },
  {
   "cell_type": "code",
   "execution_count": null,
   "id": "c0a74d59-cf93-445c-93fb-599ef985a3c0",
   "metadata": {},
   "outputs": [],
   "source": []
  }
 ],
 "metadata": {
  "kernelspec": {
   "display_name": "Python 3 (ipykernel)",
   "language": "python",
   "name": "python3"
  },
  "language_info": {
   "codemirror_mode": {
    "name": "ipython",
    "version": 3
   },
   "file_extension": ".py",
   "mimetype": "text/x-python",
   "name": "python",
   "nbconvert_exporter": "python",
   "pygments_lexer": "ipython3",
   "version": "3.11.6"
  }
 },
 "nbformat": 4,
 "nbformat_minor": 5
}
