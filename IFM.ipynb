{
 "cells": [
  {
   "cell_type": "code",
   "execution_count": 9,
   "id": "e6af10ca-5481-4d81-b4b0-17fd498d37ea",
   "metadata": {},
   "outputs": [
    {
     "name": "stdout",
     "output_type": "stream",
     "text": [
      "Requirement already satisfied: PyPDF2 in /opt/mamba/lib/python3.11/site-packages (3.0.1)\n",
      "Note: you may need to restart the kernel to use updated packages.\n"
     ]
    }
   ],
   "source": [
    "pip install PyPDF2"
   ]
  },
  {
   "cell_type": "code",
   "execution_count": 24,
   "id": "15c44aef-a729-4c10-802f-366676d26285",
   "metadata": {},
   "outputs": [],
   "source": [
    "import PyPDF2\n",
    "import csv\n",
    "import re\n",
    "import pandas as pd"
   ]
  },
  {
   "cell_type": "markdown",
   "id": "ae1ec60e-a580-48c2-9777-6f44bc0abd4c",
   "metadata": {},
   "source": [
    "## IFM RCP 4.5 - Landes\n",
    "\n",
    "La base de données étant en format pdf, le code suivant permet de les retranscrire dans un fichier csv"
   ]
  },
  {
   "cell_type": "code",
   "execution_count": 25,
   "id": "29683d87-62e8-4456-8b27-46a73c8d8983",
   "metadata": {},
   "outputs": [],
   "source": [
    "# Ouvrir le fichier PDF\n",
    "with open('IFM RCP 4.5, Landes.pdf', 'rb') as f:\n",
    "    # Créer un objet PdfReader\n",
    "    pdf_reader = PyPDF2.PdfReader(f)\n",
    "    \n",
    "    # Lire chaque page du PDF et extraire le texte\n",
    "    text = ''\n",
    "    for page_num in range(len(pdf_reader.pages)):\n",
    "        page = pdf_reader.pages[page_num]\n",
    "        text += page.extract_text()\n",
    "\n",
    "# Afficher le texte extrait\n",
    "#print(text)\n"
   ]
  },
  {
   "cell_type": "code",
   "execution_count": 26,
   "id": "6526ffa6-3010-44ad-bb0c-4ec217f973c7",
   "metadata": {},
   "outputs": [],
   "source": [
    "# Définir une expression régulière pour extraire les données de chaque ligne\n",
    "pattern = re.compile(r'(\\d+);([\\d.-]+);([\\d.-]+);([^;]+);([^;]+);([^;]+);([^;]+);([^;]+);([^;]+);([^;]+);([^;]+);([^;]+);([^;]+);([^;]+);([^;]+);')\n",
    "\n",
    "# Ouvrir le fichier PDF extrait\n",
    "with open('text.txt', 'w') as file:\n",
    "    file.write(text)\n",
    "\n",
    "# Ouvrir le fichier texte extrait\n",
    "with open('text.txt', 'r') as file:\n",
    "    # Créer un fichier CSV pour écrire les données\n",
    "    with open('ifm45_landes.csv', 'w', newline='') as csvfile:\n",
    "        writer = csv.DictWriter(csvfile, fieldnames=[\n",
    "            'Point', 'Latitude', 'Longitude', 'Contexte', 'Période', 'Saison',\n",
    "            'NORNSV23', 'NORNSV24', 'NORNSV25', 'NORIFM20', 'NORIFM40', 'NORIFM60',\n",
    "            'NORIS400', 'NORIS700', 'NORIS1000'\n",
    "        ])\n",
    "        \n",
    "        writer.writeheader()\n",
    "        \n",
    "        # Lire chaque ligne du fichier extrait\n",
    "        for line in file:\n",
    "            # Vérifier si la ligne correspond au pattern\n",
    "            match = pattern.match(line)\n",
    "            if match:\n",
    "                # Extraire les données de la ligne\n",
    "                data = {\n",
    "                    'Point': match.group(1),\n",
    "                    'Latitude': match.group(2),\n",
    "                    'Longitude': match.group(3),\n",
    "                    'Contexte': match.group(4),\n",
    "                    'Période': match.group(5),\n",
    "                    'Saison': match.group(6),\n",
    "                    'NORNSV23': match.group(7),\n",
    "                    'NORNSV24': match.group(8),\n",
    "                    'NORNSV25': match.group(9),\n",
    "                    'NORIFM20': match.group(10),\n",
    "                    'NORIFM40': match.group(11),\n",
    "                    'NORIFM60': match.group(12),\n",
    "                    'NORIS400': match.group(13),\n",
    "                    'NORIS700': match.group(14),\n",
    "                    'NORIS1000': match.group(15)\n",
    "                }\n",
    "                \n",
    "                # Écrire les données dans le fichier CSV\n",
    "                writer.writerow(data)\n"
   ]
  },
  {
   "cell_type": "code",
   "execution_count": 27,
   "id": "a4d5ebca-2605-4528-84b0-2d1fc504bfeb",
   "metadata": {},
   "outputs": [
    {
     "name": "stdout",
     "output_type": "stream",
     "text": [
      "   Point  Latitude  Longitude Contexte Période  Saison  NORNSV23  NORNSV24  \\\n",
      "0   4034   43.5074    -1.3690   RCP4.5      H1       2         0         0   \n",
      "1   4034   43.5074    -1.3690   RCP4.5      H1       3         9         1   \n",
      "2   4034   43.5074    -1.3690   RCP4.5      H1       4         5         0   \n",
      "3   4035   43.5107    -1.2704   RCP4.5      H1       2         0         0   \n",
      "4   4035   43.5107    -1.2704   RCP4.5      H1       3        16         2   \n",
      "\n",
      "  NORNSV25  NORIFM20  NORIFM40  NORIFM60  NORIS400  NORIS700  NORIS1000  \n",
      "0     -999         1         0         0         0         0       -999  \n",
      "1        0         7         0         0        23         1          0  \n",
      "2     -999         2         0         0        18         1       -999  \n",
      "3     -999         1         0         0         0         0       -999  \n",
      "4        0         8         0         0        22         1          0  \n"
     ]
    }
   ],
   "source": [
    "# Lire le fichier CSV avec pandas\n",
    "df_ifm45 = pd.read_csv('ifm45_landes.csv')\n",
    "\n",
    "# Afficher les premières lignes du DataFrame pour vérifier les données\n",
    "print(df_ifm45.head())\n"
   ]
  },
  {
   "cell_type": "markdown",
   "id": "ff3f41fe-64cc-4167-a966-5a798894a9ef",
   "metadata": {},
   "source": [
    "## Lien entre les IFM et la survenance des feux de forêt"
   ]
  },
  {
   "cell_type": "code",
   "execution_count": 28,
   "id": "affd03a0-a07e-4bb2-964f-561cb4193e36",
   "metadata": {},
   "outputs": [
    {
     "name": "stdout",
     "output_type": "stream",
     "text": [
      "   Année  Numéro Département Code INSEE       Nom de la commune  \\\n",
      "0   2006       2          01      01148                  Dortan   \n",
      "1   2006       3          01      01321                Revonnas   \n",
      "2   2006       4          01      01032               Béligneux   \n",
      "3   2006       5          01      01109               Collonges   \n",
      "4   2006       6          01      01384  Saint-Rambert-en-Bugey   \n",
      "\n",
      "  Date de première alerte Origine de l'alerte  \\\n",
      "0        27/02/2006 13:56         Indéterminé   \n",
      "1        15/03/2006 16:02         Indéterminé   \n",
      "2        16/03/2006 17:03         Indéterminé   \n",
      "3        27/03/2006 14:30         Indéterminé   \n",
      "4        24/04/2006 16:43         Indéterminé   \n",
      "\n",
      "   Moyens de première intervention  Surface parcourue (m2)  \\\n",
      "0                              NaN                   10000   \n",
      "1                              NaN                   10000   \n",
      "2                              NaN                   10000   \n",
      "3                              NaN                   10000   \n",
      "4                              NaN                   20000   \n",
      "\n",
      "   Surface forêt (m2)  ...  Décès ou bâtiments touchés  Nombre de décès  \\\n",
      "0                 0.0  ...                         Non              NaN   \n",
      "1                 0.0  ...                         Non              NaN   \n",
      "2                 0.0  ...                         Non              NaN   \n",
      "3                 0.0  ...                         Non              NaN   \n",
      "4                 0.0  ...                         Non              NaN   \n",
      "\n",
      "   Nombre de bâtiments totalement détruits  \\\n",
      "0                                      NaN   \n",
      "1                                      NaN   \n",
      "2                                      NaN   \n",
      "3                                      NaN   \n",
      "4                                      NaN   \n",
      "\n",
      "   Nombre de bâtiments partiellement détruits  Hygrométrie (%)  \\\n",
      "0                                         NaN              NaN   \n",
      "1                                         NaN              NaN   \n",
      "2                                         NaN              NaN   \n",
      "3                                         NaN              NaN   \n",
      "4                                         NaN              NaN   \n",
      "\n",
      "   Vitesse moyenne du vent (Km/h)  Direction du vent  Température (°C)  \\\n",
      "0                             NaN                NaN               NaN   \n",
      "1                             NaN                NaN               NaN   \n",
      "2                             NaN                NaN               NaN   \n",
      "3                             NaN                NaN               NaN   \n",
      "4                             NaN                NaN               NaN   \n",
      "\n",
      "              Précision de la donnée  Présence d'un contour valide  \n",
      "0  Données partielles ou non valides                          Non,  \n",
      "1  Données partielles ou non valides                          Non,  \n",
      "2  Données partielles ou non valides                          Non,  \n",
      "3  Données partielles ou non valides                          Non,  \n",
      "4  Données partielles ou non valides                          Non,  \n",
      "\n",
      "[5 rows x 37 columns]\n",
      "Empty DataFrame\n",
      "Columns: [Année, Numéro, Département, Code INSEE, Nom de la commune, Date de première alerte, Origine de l'alerte, Moyens de première intervention, Surface parcourue (m2), Surface forêt (m2), Surface maquis garrigues (m2), Autres surfaces naturelles hors forêt (m2), Surfaces agricoles (m2), Autres surfaces (m2), Surface autres terres boisées (m2), Surfaces non boisées naturelles (m2), Surfaces non boisées artificialisées (m2), Surfaces non boisées (m2), Précision des surfaces, Surface de feu à l'arrivée des secours > 0,1 ha, Voie carrossable la plus proche, Activité ou habitation la plus proche, Type de peuplement, Connaissance, Source de l'enquête, Nature, Intervention de l'équipe RCCI, Décès ou bâtiments touchés, Nombre de décès, Nombre de bâtiments totalement détruits, Nombre de bâtiments partiellement détruits, Hygrométrie (%), Vitesse moyenne du vent (Km/h), Direction du vent, Température (°C), Précision de la donnée, Présence d'un contour valide]\n",
      "Index: []\n",
      "\n",
      "[0 rows x 37 columns]\n"
     ]
    }
   ],
   "source": [
    "data = 'combine.csv'\n",
    "\n",
    "df = pd.read_csv('combine.csv', sep=';')\n",
    "print(df.head())\n",
    "\n",
    "# Filtrer les lignes où la valeur de la colonne \"Département\" est égale à 40\n",
    "bdiff_landes = df[df['Département'] == 1]\n",
    "\n",
    "# Afficher les premières lignes du DataFrame filtré\n",
    "print(bdiff_landes.head())"
   ]
  },
  {
   "cell_type": "code",
   "execution_count": null,
   "id": "95e523a5-d944-4cf1-b76c-d0222b3f629a",
   "metadata": {},
   "outputs": [],
   "source": []
  }
 ],
 "metadata": {
  "kernelspec": {
   "display_name": "Python 3 (ipykernel)",
   "language": "python",
   "name": "python3"
  },
  "language_info": {
   "codemirror_mode": {
    "name": "ipython",
    "version": 3
   },
   "file_extension": ".py",
   "mimetype": "text/x-python",
   "name": "python",
   "nbconvert_exporter": "python",
   "pygments_lexer": "ipython3",
   "version": "3.11.6"
  }
 },
 "nbformat": 4,
 "nbformat_minor": 5
}
