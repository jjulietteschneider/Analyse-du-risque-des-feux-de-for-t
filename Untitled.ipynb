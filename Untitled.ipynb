{
 "cells": [
  {
   "cell_type": "markdown",
   "id": "383cf974-e174-4135-be74-d636ccd1dc77",
   "metadata": {},
   "source": [
    "## Bayesian Linear Regression"
   ]
  },
  {
   "cell_type": "code",
   "execution_count": 17,
   "id": "d307ca9a-9644-469e-be6e-78b0bf35e170",
   "metadata": {},
   "outputs": [
    {
     "name": "stdout",
     "output_type": "stream",
     "text": [
      "Found existing installation: pymc3 3.11.4\n",
      "Uninstalling pymc3-3.11.4:\n",
      "  Successfully uninstalled pymc3-3.11.4\n",
      "\u001b[33mWARNING: Skipping theano as it is not installed.\u001b[0m\u001b[33m\n",
      "\u001b[0m"
     ]
    }
   ],
   "source": [
    "!pip uninstall --yes pymc3 theano"
   ]
  },
  {
   "cell_type": "code",
   "execution_count": 18,
   "id": "a31ad3ec-0e74-49aa-b7b2-dfe99afbad0c",
   "metadata": {},
   "outputs": [
    {
     "name": "stdout",
     "output_type": "stream",
     "text": [
      "Collecting pymc3\n",
      "  Using cached pymc3-3.11.5-py3-none-any.whl.metadata (14 kB)\n",
      "Collecting theano\n",
      "  Downloading Theano-1.0.5.tar.gz (2.8 MB)\n",
      "\u001b[2K     \u001b[90m━━━━━━━━━━━━━━━━━━━━━━━━━━━━━━━━━━━━━━━━\u001b[0m \u001b[32m2.8/2.8 MB\u001b[0m \u001b[31m29.1 MB/s\u001b[0m eta \u001b[36m0:00:00\u001b[0ma \u001b[36m0:00:01\u001b[0m\n",
      "\u001b[?25h  Preparing metadata (setup.py) ... \u001b[?25ldone\n",
      "\u001b[?25hRequirement already satisfied: arviz>=0.11.0 in /opt/mamba/lib/python3.11/site-packages (from pymc3) (0.17.1)\n",
      "Requirement already satisfied: cachetools>=4.2.1 in /opt/mamba/lib/python3.11/site-packages (from pymc3) (5.3.3)\n",
      "Collecting deprecat (from pymc3)\n",
      "  Using cached deprecat-2.1.1-py2.py3-none-any.whl.metadata (1.6 kB)\n",
      "Requirement already satisfied: dill in /opt/mamba/lib/python3.11/site-packages (from pymc3) (0.3.8)\n",
      "Requirement already satisfied: fastprogress>=0.2.0 in /opt/mamba/lib/python3.11/site-packages (from pymc3) (1.0.3)\n",
      "Collecting numpy<1.22.2,>=1.15.0 (from pymc3)\n",
      "  Using cached numpy-1.22.1.zip (11.4 MB)\n",
      "  Installing build dependencies ... \u001b[?25ldone\n",
      "\u001b[?25h  Getting requirements to build wheel ... \u001b[?25ldone\n",
      "\u001b[?25h  Preparing metadata (pyproject.toml) ... \u001b[?25ldone\n",
      "\u001b[?25hRequirement already satisfied: pandas>=0.24.0 in /opt/mamba/lib/python3.11/site-packages (from pymc3) (2.2.1)\n",
      "Requirement already satisfied: patsy>=0.5.1 in /opt/mamba/lib/python3.11/site-packages (from pymc3) (0.5.6)\n",
      "INFO: pip is looking at multiple versions of pymc3 to determine which version is compatible with other requirements. This could take a while.\n",
      "Collecting pymc3\n",
      "  Using cached pymc3-3.11.4-py3-none-any.whl.metadata (14 kB)\n",
      "Requirement already satisfied: numpy>=1.15.0 in /opt/mamba/lib/python3.11/site-packages (from pymc3) (1.26.4)\n",
      "Requirement already satisfied: scipy>=1.2.0 in /opt/mamba/lib/python3.11/site-packages (from pymc3) (1.12.0)\n",
      "Requirement already satisfied: semver>=2.13.0 in /opt/mamba/lib/python3.11/site-packages (from pymc3) (3.0.2)\n",
      "Requirement already satisfied: theano-pymc==1.1.2 in /opt/mamba/lib/python3.11/site-packages (from pymc3) (1.1.2)\n",
      "Requirement already satisfied: typing-extensions>=3.7.4 in /opt/mamba/lib/python3.11/site-packages (from pymc3) (4.10.0)\n",
      "Requirement already satisfied: filelock in /opt/mamba/lib/python3.11/site-packages (from theano-pymc==1.1.2->pymc3) (3.13.3)\n",
      "Requirement already satisfied: six>=1.9.0 in /opt/mamba/lib/python3.11/site-packages (from theano) (1.16.0)\n",
      "Requirement already satisfied: setuptools>=60.0.0 in /opt/mamba/lib/python3.11/site-packages (from arviz>=0.11.0->pymc3) (69.2.0)\n",
      "Requirement already satisfied: matplotlib>=3.5 in /opt/mamba/lib/python3.11/site-packages (from arviz>=0.11.0->pymc3) (3.8.3)\n",
      "Requirement already satisfied: packaging in /opt/mamba/lib/python3.11/site-packages (from arviz>=0.11.0->pymc3) (23.2)\n",
      "Requirement already satisfied: xarray>=0.21.0 in /opt/mamba/lib/python3.11/site-packages (from arviz>=0.11.0->pymc3) (2024.2.0)\n",
      "Requirement already satisfied: h5netcdf>=1.0.2 in /opt/mamba/lib/python3.11/site-packages (from arviz>=0.11.0->pymc3) (1.3.0)\n",
      "Requirement already satisfied: xarray-einstats>=0.3 in /opt/mamba/lib/python3.11/site-packages (from arviz>=0.11.0->pymc3) (0.7.0)\n",
      "Requirement already satisfied: python-dateutil>=2.8.2 in /opt/mamba/lib/python3.11/site-packages (from pandas>=0.24.0->pymc3) (2.9.0)\n",
      "Requirement already satisfied: pytz>=2020.1 in /opt/mamba/lib/python3.11/site-packages (from pandas>=0.24.0->pymc3) (2024.1)\n",
      "Requirement already satisfied: tzdata>=2022.7 in /opt/mamba/lib/python3.11/site-packages (from pandas>=0.24.0->pymc3) (2024.1)\n",
      "Requirement already satisfied: h5py in /opt/mamba/lib/python3.11/site-packages (from h5netcdf>=1.0.2->arviz>=0.11.0->pymc3) (3.10.0)\n",
      "Requirement already satisfied: contourpy>=1.0.1 in /opt/mamba/lib/python3.11/site-packages (from matplotlib>=3.5->arviz>=0.11.0->pymc3) (1.2.0)\n",
      "Requirement already satisfied: cycler>=0.10 in /opt/mamba/lib/python3.11/site-packages (from matplotlib>=3.5->arviz>=0.11.0->pymc3) (0.12.1)\n",
      "Requirement already satisfied: fonttools>=4.22.0 in /opt/mamba/lib/python3.11/site-packages (from matplotlib>=3.5->arviz>=0.11.0->pymc3) (4.50.0)\n",
      "Requirement already satisfied: kiwisolver>=1.3.1 in /opt/mamba/lib/python3.11/site-packages (from matplotlib>=3.5->arviz>=0.11.0->pymc3) (1.4.5)\n",
      "Requirement already satisfied: pillow>=8 in /opt/mamba/lib/python3.11/site-packages (from matplotlib>=3.5->arviz>=0.11.0->pymc3) (10.2.0)\n",
      "Requirement already satisfied: pyparsing>=2.3.1 in /opt/mamba/lib/python3.11/site-packages (from matplotlib>=3.5->arviz>=0.11.0->pymc3) (3.1.2)\n",
      "Using cached pymc3-3.11.4-py3-none-any.whl (869 kB)\n",
      "Building wheels for collected packages: theano\n",
      "  Building wheel for theano (setup.py) ... \u001b[?25ldone\n",
      "\u001b[?25h  Created wheel for theano: filename=Theano-1.0.5-py3-none-any.whl size=2668109 sha256=3142dc7afa2f2a4ffb49ea53cbf2b42b7a15154b23a91f0058279cd9217d7be8\n",
      "  Stored in directory: /home/onyxia/.cache/pip/wheels/26/1f/2f/02d738022626461828148150c0354e712c4ad74f1a60f10933\n",
      "Successfully built theano\n",
      "Installing collected packages: theano, pymc3\n",
      "Successfully installed pymc3-3.11.4 theano-1.0.5\n"
     ]
    }
   ],
   "source": [
    "!pip install pymc3 theano"
   ]
  },
  {
   "cell_type": "code",
   "execution_count": 13,
   "id": "764af073-b9ee-4e99-a509-e8ce485befd9",
   "metadata": {},
   "outputs": [
    {
     "ename": "AttributeError",
     "evalue": "partially initialized module 'theano' has no attribute 'compile' (most likely due to a circular import)",
     "output_type": "error",
     "traceback": [
      "\u001b[0;31m---------------------------------------------------------------------------\u001b[0m",
      "\u001b[0;31mAttributeError\u001b[0m                            Traceback (most recent call last)",
      "Cell \u001b[0;32mIn[13], line 1\u001b[0m\n\u001b[0;32m----> 1\u001b[0m \u001b[38;5;28;01mimport\u001b[39;00m \u001b[38;5;21;01mtheano\u001b[39;00m\n\u001b[1;32m      2\u001b[0m \u001b[38;5;28;01mimport\u001b[39;00m \u001b[38;5;21;01mpymc3\u001b[39;00m \u001b[38;5;28;01mas\u001b[39;00m \u001b[38;5;21;01mpm\u001b[39;00m\n\u001b[1;32m      3\u001b[0m \u001b[38;5;28;01mimport\u001b[39;00m \u001b[38;5;21;01mnumpy\u001b[39;00m \u001b[38;5;28;01mas\u001b[39;00m \u001b[38;5;21;01mnp\u001b[39;00m\n",
      "File \u001b[0;32m/opt/mamba/lib/python3.11/site-packages/theano/__init__.py:83\u001b[0m\n\u001b[1;32m     75\u001b[0m \u001b[38;5;66;03m# This is the api version for ops that generate C code.  External ops\u001b[39;00m\n\u001b[1;32m     76\u001b[0m \u001b[38;5;66;03m# might need manual changes if this number goes up.  An undefined\u001b[39;00m\n\u001b[1;32m     77\u001b[0m \u001b[38;5;66;03m# __api_version__ can be understood to mean api version 0.\u001b[39;00m\n\u001b[1;32m     78\u001b[0m \u001b[38;5;66;03m#\u001b[39;00m\n\u001b[1;32m     79\u001b[0m \u001b[38;5;66;03m# This number is not tied to the release version and should change\u001b[39;00m\n\u001b[1;32m     80\u001b[0m \u001b[38;5;66;03m# very rarely.\u001b[39;00m\n\u001b[1;32m     81\u001b[0m __api_version__ \u001b[38;5;241m=\u001b[39m \u001b[38;5;241m1\u001b[39m\n\u001b[0;32m---> 83\u001b[0m \u001b[38;5;28;01mfrom\u001b[39;00m \u001b[38;5;21;01mtheano\u001b[39;00m \u001b[38;5;28;01mimport\u001b[39;00m scalar, tensor\n\u001b[1;32m     84\u001b[0m \u001b[38;5;28;01mfrom\u001b[39;00m \u001b[38;5;21;01mtheano\u001b[39;00m\u001b[38;5;21;01m.\u001b[39;00m\u001b[38;5;21;01mcompile\u001b[39;00m \u001b[38;5;28;01mimport\u001b[39;00m (\n\u001b[1;32m     85\u001b[0m     In,\n\u001b[1;32m     86\u001b[0m     Mode,\n\u001b[0;32m   (...)\u001b[0m\n\u001b[1;32m     93\u001b[0m     shared,\n\u001b[1;32m     94\u001b[0m )\n\u001b[1;32m     95\u001b[0m \u001b[38;5;28;01mfrom\u001b[39;00m \u001b[38;5;21;01mtheano\u001b[39;00m\u001b[38;5;21;01m.\u001b[39;00m\u001b[38;5;21;01mcompile\u001b[39;00m\u001b[38;5;21;01m.\u001b[39;00m\u001b[38;5;21;01mfunction\u001b[39;00m \u001b[38;5;28;01mimport\u001b[39;00m function, function_dump\n",
      "File \u001b[0;32m/opt/mamba/lib/python3.11/site-packages/theano/scalar/__init__.py:1\u001b[0m\n\u001b[0;32m----> 1\u001b[0m \u001b[38;5;28;01mfrom\u001b[39;00m \u001b[38;5;21;01m.\u001b[39;00m\u001b[38;5;21;01mbasic\u001b[39;00m \u001b[38;5;28;01mimport\u001b[39;00m \u001b[38;5;241m*\u001b[39m\n\u001b[1;32m      2\u001b[0m \u001b[38;5;28;01mfrom\u001b[39;00m \u001b[38;5;21;01m.\u001b[39;00m\u001b[38;5;21;01mbasic_scipy\u001b[39;00m \u001b[38;5;28;01mimport\u001b[39;00m \u001b[38;5;241m*\u001b[39m\n",
      "File \u001b[0;32m/opt/mamba/lib/python3.11/site-packages/theano/scalar/basic.py:710\u001b[0m\n\u001b[1;32m    706\u001b[0m         \u001b[38;5;28;01mreturn\u001b[39;00m shape_info\n\u001b[1;32m    709\u001b[0m \u001b[38;5;66;03m# Register C code for ViewOp on Scalars.\u001b[39;00m\n\u001b[0;32m--> 710\u001b[0m \u001b[43mtheano\u001b[49m\u001b[38;5;241;43m.\u001b[39;49m\u001b[43mcompile\u001b[49m\u001b[38;5;241m.\u001b[39mregister_view_op_c_code(\n\u001b[1;32m    711\u001b[0m     Scalar,\n\u001b[1;32m    712\u001b[0m \u001b[38;5;250m    \u001b[39m\u001b[38;5;124;03m\"\"\"\u001b[39;00m\n\u001b[1;32m    713\u001b[0m \u001b[38;5;124;03m    %(oname)s = %(iname)s;\u001b[39;00m\n\u001b[1;32m    714\u001b[0m \u001b[38;5;124;03m    \"\"\"\u001b[39;00m,\n\u001b[1;32m    715\u001b[0m     \u001b[38;5;241m1\u001b[39m,\n\u001b[1;32m    716\u001b[0m )\n\u001b[1;32m    719\u001b[0m \u001b[38;5;28mbool\u001b[39m \u001b[38;5;241m=\u001b[39m get_scalar_type(\u001b[38;5;124m\"\u001b[39m\u001b[38;5;124mbool\u001b[39m\u001b[38;5;124m\"\u001b[39m)\n\u001b[1;32m    720\u001b[0m int8 \u001b[38;5;241m=\u001b[39m get_scalar_type(\u001b[38;5;124m\"\u001b[39m\u001b[38;5;124mint8\u001b[39m\u001b[38;5;124m\"\u001b[39m)\n",
      "\u001b[0;31mAttributeError\u001b[0m: partially initialized module 'theano' has no attribute 'compile' (most likely due to a circular import)"
     ]
    }
   ],
   "source": [
    "import theano\n",
    "import pymc3 as pm\n",
    "import numpy as np"
   ]
  },
  {
   "cell_type": "code",
   "execution_count": 5,
   "id": "aa76936b-2777-45c0-a641-d992a6921563",
   "metadata": {},
   "outputs": [],
   "source": [
    "import pandas as pd"
   ]
  },
  {
   "cell_type": "code",
   "execution_count": 6,
   "id": "87d0f84b-b0c0-4cea-a1bb-632c494d86ee",
   "metadata": {},
   "outputs": [
    {
     "name": "stdout",
     "output_type": "stream",
     "text": [
      "        Date  Latitude  Longitude  ifm  ifm-max\n",
      "0 2006-01-01   43.5074   -1.36829  0.7      0.8\n",
      "1 2006-01-02   43.5074   -1.36829  0.6      0.7\n",
      "2 2006-01-03   43.5074   -1.36829  0.6      0.7\n",
      "3 2006-01-04   43.5074   -1.36829  0.9      0.9\n",
      "4 2006-01-05   43.5074   -1.36829  0.9      1.0\n"
     ]
    }
   ],
   "source": [
    "### UPLOAD LE FICHIER AVANT ###\n",
    "\n",
    "# Initialiser une liste vide pour stocker les données\n",
    "data = []\n",
    "\n",
    "# Ouvrir le fichier texte pour la lecture\n",
    "with open('ifm donnees 2022 rcp4.5.txt', 'r') as file:\n",
    "    for line in file:\n",
    "        # Ignorer les lignes de commentaire\n",
    "        if not line.startswith('#'):\n",
    "            # Diviser la ligne pour obtenir les différentes valeurs\n",
    "            columns = line.strip().split(';')\n",
    "            # Ajouter les valeurs à la liste de données\n",
    "            data.append(columns)\n",
    "\n",
    "# Créer un DataFrame à partir de la liste de données\n",
    "df_ifm45 = pd.DataFrame(data, columns=['Date', 'Latitude', 'Longitude', 'ifm', 'ifm-max'])\n",
    "\n",
    "# Convertir les colonnes de données en types appropriés\n",
    "df_ifm45['Date'] = pd.to_datetime(df_ifm45['Date'], format='%Y%m%d')\n",
    "df_ifm45['Latitude'] = pd.to_numeric(df_ifm45['Latitude'])\n",
    "df_ifm45['Longitude'] = pd.to_numeric(df_ifm45['Longitude'])\n",
    "df_ifm45['ifm'] = pd.to_numeric(df_ifm45['ifm'])\n",
    "df_ifm45['ifm-max'] = pd.to_numeric(df_ifm45['ifm-max'])\n",
    "\n",
    "# Afficher les premières lignes du DataFrame pour vérification\n",
    "print(df_ifm45.head())\n"
   ]
  },
  {
   "cell_type": "code",
   "execution_count": 9,
   "id": "1d83c41a-55a3-4a08-aa74-25a49dab1c84",
   "metadata": {},
   "outputs": [
    {
     "ename": "NameError",
     "evalue": "name 'pm' is not defined",
     "output_type": "error",
     "traceback": [
      "\u001b[0;31m---------------------------------------------------------------------------\u001b[0m",
      "\u001b[0;31mNameError\u001b[0m                                 Traceback (most recent call last)",
      "Cell \u001b[0;32mIn[9], line 5\u001b[0m\n\u001b[1;32m      2\u001b[0m data \u001b[38;5;241m=\u001b[39m df_ifm45\n\u001b[1;32m      4\u001b[0m \u001b[38;5;66;03m# Model\u001b[39;00m\n\u001b[0;32m----> 5\u001b[0m \u001b[38;5;28;01mwith\u001b[39;00m \u001b[43mpm\u001b[49m\u001b[38;5;241m.\u001b[39mModel() \u001b[38;5;28;01mas\u001b[39;00m model:\n\u001b[1;32m      6\u001b[0m     \u001b[38;5;66;03m# Priors\u001b[39;00m\n\u001b[1;32m      7\u001b[0m     alpha \u001b[38;5;241m=\u001b[39m pm\u001b[38;5;241m.\u001b[39mNormal(\u001b[38;5;124m'\u001b[39m\u001b[38;5;124malpha\u001b[39m\u001b[38;5;124m'\u001b[39m, mu\u001b[38;5;241m=\u001b[39m\u001b[38;5;241m0\u001b[39m, sd\u001b[38;5;241m=\u001b[39m\u001b[38;5;241m10\u001b[39m)\n\u001b[1;32m      8\u001b[0m     beta_lat \u001b[38;5;241m=\u001b[39m pm\u001b[38;5;241m.\u001b[39mNormal(\u001b[38;5;124m'\u001b[39m\u001b[38;5;124mbeta_lat\u001b[39m\u001b[38;5;124m'\u001b[39m, mu\u001b[38;5;241m=\u001b[39m\u001b[38;5;241m0\u001b[39m, sd\u001b[38;5;241m=\u001b[39m\u001b[38;5;241m10\u001b[39m)\n",
      "\u001b[0;31mNameError\u001b[0m: name 'pm' is not defined"
     ]
    }
   ],
   "source": [
    "# Data\n",
    "data = df_ifm45\n",
    "\n",
    "# Model\n",
    "with pm.Model() as model:\n",
    "    # Priors\n",
    "    alpha = pm.Normal('alpha', mu=0, sd=10)\n",
    "    beta_lat = pm.Normal('beta_lat', mu=0, sd=10)\n",
    "    beta_lon = pm.Normal('beta_lon', mu=0, sd=10)\n",
    "    beta_fwi = pm.Normal('beta_fwi', mu=0, sd=10)\n",
    "    sigma = pm.HalfNormal('sigma', sd=1)\n",
    "    \n",
    "    # Linear combination of features\n",
    "    mu = alpha + beta_lat * data['Latitude'] + beta_lon * data['Longitude'] + beta_fwi * data['ifm']\n",
    "    \n",
    "    # Likelihood\n",
    "    y_obs = pm.Poisson('y_obs', mu=mu, observed=data['number_of_fires'])\n",
    "    \n",
    "    # Sample from posterior\n",
    "    trace = pm.sample(1000, tune=1000)\n"
   ]
  },
  {
   "cell_type": "code",
   "execution_count": null,
   "id": "b8bc4896-c8c3-41bb-a7f2-0a4565b42a20",
   "metadata": {},
   "outputs": [],
   "source": [
    "# Predictions\n",
    "# Assuming you have new data for prediction\n",
    "# Perform similar feature engineering on the new data\n",
    "\n",
    "with model:\n",
    "    # Use the updated model with new data\n",
    "    posterior_preds = pm.sample_posterior_predictive(trace, samples=500, vars=[mu])\n",
    "\n",
    "# Extract predicted fire occurrences\n",
    "predicted_fire_occurrences = posterior_preds['y_obs'].mean(axis=0)\n",
    "\n",
    "# Calculate uncertainty intervals (e.g., 95% credible intervals)\n",
    "lower_bound = np.percentile(posterior_preds['y_obs'], 2.5, axis=0)\n",
    "upper_bound = np.percentile(posterior_preds['y_obs'], 97.5, axis=0)\n",
    "\n",
    "# Now you have probabilistic predictions and uncertainty intervals for fire occurrences based on geographical and FWI data."
   ]
  }
 ],
 "metadata": {
  "kernelspec": {
   "display_name": "Python 3 (ipykernel)",
   "language": "python",
   "name": "python3"
  },
  "language_info": {
   "codemirror_mode": {
    "name": "ipython",
    "version": 3
   },
   "file_extension": ".py",
   "mimetype": "text/x-python",
   "name": "python",
   "nbconvert_exporter": "python",
   "pygments_lexer": "ipython3",
   "version": "3.11.6"
  }
 },
 "nbformat": 4,
 "nbformat_minor": 5
}
