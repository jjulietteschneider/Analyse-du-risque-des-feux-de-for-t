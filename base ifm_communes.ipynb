{
 "cells": [
  {
   "cell_type": "markdown",
   "id": "b05b0b79-33d5-4373-8c3b-8243e1f6fd4c",
   "metadata": {},
   "source": [
    "Ce notebook va servir à la création de notre vecteur Y et notre tableau X de 2006 à 2022 sur la saison estivale afin d'appliquer ensuite nos modèles de prédiction."
   ]
  },
  {
   "cell_type": "code",
   "execution_count": 4,
   "id": "e34d9c37-46a0-4150-984c-f0f5d1b40afd",
   "metadata": {},
   "outputs": [],
   "source": [
    "import pandas as pd"
   ]
  },
  {
   "cell_type": "markdown",
   "id": "a60dcf5b-86aa-4a45-8c50-2cd499ee21b1",
   "metadata": {},
   "source": [
    "## Création du vecteur Y ##\n",
    "\n",
    "Y est un vecteur de 0 et de 1. Chaque ligne correspond à une commune, qui vont être répétées de 2006 à 2022 :\n",
    "- $Y_1$ = 1 si il y a eu au moins un feu dans la commune 1 sur la période estivale en 2006, 0 sinon\n",
    "- $Y_2$ = 1 si il y a eu au moins un feu dans la commune 2 sur la période estivale en 2006, 0 sinon\n",
    "  ..."
   ]
  },
  {
   "cell_type": "code",
   "execution_count": 5,
   "id": "d2651120-9b49-4f1c-8074-199b6b29ee6b",
   "metadata": {},
   "outputs": [
    {
     "name": "stdout",
     "output_type": "stream",
     "text": [
      "     Année  Numéro Département Code INSEE  Nom de la commune  \\\n",
      "652   2006    1876          40      40006          Arengosse   \n",
      "653   2006    1877          40      40151             Lesgor   \n",
      "654   2006    1878          40      40108             Gastes   \n",
      "655   2006    1879          40      40210  Onesse-et-Laharie   \n",
      "656   2006    1881          40      40167              Luxey   \n",
      "\n",
      "    Date de première alerte Origine de l'alerte  \\\n",
      "652        26/07/2006 19:40         Indéterminé   \n",
      "653        17/07/2006 15:29         Indéterminé   \n",
      "654        25/04/2006 18:40         Indéterminé   \n",
      "655        17/07/2006 18:20         Indéterminé   \n",
      "656        27/07/2006 10:49         Indéterminé   \n",
      "\n",
      "     Moyens de première intervention  Surface parcourue (m2)  \\\n",
      "652                              NaN                    5000   \n",
      "653                              NaN                   66000   \n",
      "654                              NaN                     400   \n",
      "655                              NaN                   59000   \n",
      "656                              NaN                      10   \n",
      "\n",
      "     Surface forêt (m2)  ...  Décès ou bâtiments touchés  Nombre de décès  \\\n",
      "652              5000.0  ...                         Non              NaN   \n",
      "653             60000.0  ...                         Non              NaN   \n",
      "654               400.0  ...                         Non              NaN   \n",
      "655             59000.0  ...                         Non              NaN   \n",
      "656                10.0  ...                         Non              NaN   \n",
      "\n",
      "     Nombre de bâtiments totalement détruits  \\\n",
      "652                                      NaN   \n",
      "653                                      NaN   \n",
      "654                                      NaN   \n",
      "655                                      NaN   \n",
      "656                                      NaN   \n",
      "\n",
      "     Nombre de bâtiments partiellement détruits  Hygrométrie (%)  \\\n",
      "652                                         NaN              NaN   \n",
      "653                                         NaN              NaN   \n",
      "654                                         NaN              NaN   \n",
      "655                                         NaN              NaN   \n",
      "656                                         NaN              NaN   \n",
      "\n",
      "     Vitesse moyenne du vent (Km/h)  Direction du vent  Température (°C)  \\\n",
      "652                             NaN                NaN               NaN   \n",
      "653                             NaN                NaN               NaN   \n",
      "654                             NaN                NaN               NaN   \n",
      "655                             NaN                NaN               NaN   \n",
      "656                             NaN                NaN               NaN   \n",
      "\n",
      "    Précision de la donnée  Présence d'un contour valide  \n",
      "652                    NaN                          Non,  \n",
      "653                    NaN                          Non,  \n",
      "654                    NaN                          Non,  \n",
      "655                    NaN                          Non,  \n",
      "656                    NaN                          Non,  \n",
      "\n",
      "[5 rows x 37 columns]\n"
     ]
    }
   ],
   "source": [
    "data = 'combine.csv'\n",
    "\n",
    "df = pd.read_csv('combine.csv', sep=';')\n",
    "#print(df.head())\n",
    "\n",
    "# Filtrer les lignes où la valeur de la colonne \"Département\" est égale à 40\n",
    "bdiff_landes = df[df['Département'] == '40']\n",
    "\n",
    "# Afficher les premières lignes du DataFrame filtré\n",
    "print(bdiff_landes.head())"
   ]
  },
  {
   "cell_type": "markdown",
   "id": "5994e187-9996-43c6-b257-125643cc243f",
   "metadata": {},
   "source": [
    "*Test uniquement pour l'année 2006*"
   ]
  },
  {
   "cell_type": "code",
   "execution_count": 9,
   "id": "6e017120-a939-45d4-a06c-1c4db8759f5d",
   "metadata": {},
   "outputs": [
    {
     "name": "stdout",
     "output_type": "stream",
     "text": [
      "   Code INSEE  Feu en été\n",
      "0       40006           1\n",
      "1       40151           1\n",
      "2       40108           0\n",
      "3       40210           1\n",
      "4       40167           1\n",
      "..        ...         ...\n",
      "83      40329           0\n",
      "84      40143           1\n",
      "85      40258           0\n",
      "86      40015           0\n",
      "87      40030           0\n",
      "\n",
      "[88 rows x 2 columns]\n"
     ]
    }
   ],
   "source": [
    "# Conversion du format de la date\n",
    "bdiff_landes.loc[:, 'Date de première alerte'] = pd.to_datetime(bdiff_landes['Date de première alerte'], format='%d/%m/%Y %H:%M')\n",
    "\n",
    "# Filtrer pour l'année 2006\n",
    "bdiff_landes_2006 = bdiff_landes[bdiff_landes['Année'] == 2006]\n",
    "\n",
    "# Liste complète des communes en 2006\n",
    "communes = bdiff_landes_2006['Code INSEE'].drop_duplicates().to_frame()\n",
    "\n",
    "# Filtrer pour les mois de juin, juillet et août\n",
    "df_summer = bdiff_landes_2006[bdiff_landes_2006['Date de première alerte'].dt.month.isin([6, 7, 8])]\n",
    "\n",
    "# Aggrégation par commune avec vérification des incendies\n",
    "feu_par_commune = df_summer.groupby('Code INSEE').size().gt(0).reset_index(name='Feu en été')\n",
    "\n",
    "# Convertir les valeurs en 1 et 0\n",
    "feu_par_commune['Feu en été'] = feu_par_commune['Feu en été'].astype(int)\n",
    "\n",
    "# Jointure avec la liste complète des communes pour inclure les communes sans feu\n",
    "resultat_final = communes.merge(feu_par_commune, on='Code INSEE', how='left')\n",
    "resultat_final['Feu en été'] = resultat_final['Feu en été'].fillna(0).astype(int)\n",
    "\n",
    "# Afficher le résultat\n",
    "print(resultat_final)\n"
   ]
  },
  {
   "cell_type": "markdown",
   "id": "529d37a2-287e-4b55-b16a-7ecc99ccd649",
   "metadata": {},
   "source": [
    "On a pas toutes les communes, juste celles qui apparaissent dans combine en 2006. Il faut y ajouter celles qui n'apparaissent pas (car pas de feux dans l'année)"
   ]
  },
  {
   "cell_type": "code",
   "execution_count": null,
   "id": "c323c84c-f854-4d98-a59d-3d383edbeef6",
   "metadata": {},
   "outputs": [],
   "source": [
    "# communes_landes = pd.read_csv('chemin_vers_liste_des_communes.csv')\n",
    "\n",
    "# Convertissez la colonne de date si nécessaire\n",
    "df['Date de première alerte'] = pd.to_datetime(df['Date de première alerte'], format='%d/%m/%Y %H:%M')\n",
    "\n",
    "# Filtrer pour l'année 2006 et les mois d'été\n",
    "df_summer = df[(df['Année'] == 2006) & (df['Date de première alerte'].dt.month.isin([6, 7, 8]))]\n",
    "\n",
    "# Groupement par commune avec vérification des feux\n",
    "feu_par_commune = df_summer.groupby('Code INSEE').size().gt(0).reset_index(name='Feu en été')\n",
    "feu_par_commune['Feu en été'] = feu_par_commune['Feu en été'].astype(int)\n",
    "\n",
    "# Fusionner avec la liste complète des communes\n",
    "resultat_final = communes_landes.merge(feu_par_commune, on='Code INSEE', how='left')\n",
    "resultat_final['Feu en été'] = resultat_final['Feu en été'].fillna(0).astype(int)\n",
    "\n",
    "# Afficher le résultat\n",
    "print(resultat_final)\n"
   ]
  }
 ],
 "metadata": {
  "kernelspec": {
   "display_name": "Python 3 (ipykernel)",
   "language": "python",
   "name": "python3"
  },
  "language_info": {
   "codemirror_mode": {
    "name": "ipython",
    "version": 3
   },
   "file_extension": ".py",
   "mimetype": "text/x-python",
   "name": "python",
   "nbconvert_exporter": "python",
   "pygments_lexer": "ipython3",
   "version": "3.11.6"
  }
 },
 "nbformat": 4,
 "nbformat_minor": 5
}
